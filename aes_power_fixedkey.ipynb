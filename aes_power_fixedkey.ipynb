{
 "cells": [
  {
   "cell_type": "code",
   "execution_count": 2,
   "metadata": {},
   "outputs": [],
   "source": [
    "import numpy as np\n",
    "fixData = np.load('aes_power_fixedkey.npz', allow_pickle=True)"
   ]
  },
  {
   "cell_type": "code",
   "execution_count": 4,
   "metadata": {},
   "outputs": [
    {
     "name": "stdout",
     "output_type": "stream",
     "text": [
      "['traces', 'plaintexts']\n"
     ]
    }
   ],
   "source": [
    "lstFData = list(fixData)\n",
    "print(lstFData)\n",
    "fT = fixData['traces'] #二維矩陣20,000筆，len(fT[n])=15,000，<class 'numpy.float64'>\n",
    "fP = fixData['plaintexts'] #二維矩陣20,000筆，len(fT[n])=16，<class 'numpy.uint8'>"
   ]
  },
  {
   "cell_type": "code",
   "execution_count": 11,
   "metadata": {},
   "outputs": [
    {
     "name": "stdout",
     "output_type": "stream",
     "text": [
      "20000\n",
      "15000\n",
      "[[ 0.02000183  0.02000183  0.02000183 ...  0.02000183  0.02000183\n",
      "   0.02000183]\n",
      " [ 0.02000183  0.02000183  0.02000183 ...  0.02000183  0.02000183\n",
      "   0.02000183]\n",
      " [ 0.02000183 -0.0195843   0.02000183 ...  0.02000183  0.02000183\n",
      "   0.02000183]\n",
      " ...\n",
      " [-0.00945428 -0.02000183 -0.01653888 ...  0.00600964  0.00266939\n",
      "   0.00573251]\n",
      " [-0.00686546 -0.02000183 -0.00353681 ...  0.00547796  0.00366317\n",
      "   0.00635637]\n",
      " [-0.01144244 -0.02000183 -0.02000183 ...  0.00730436  0.00483091\n",
      "   0.00726956]]\n",
      "<class 'numpy.float64'>\n"
     ]
    }
   ],
   "source": [
    "print(len(fT))\n",
    "print(len(fT[0]))\n",
    "print(fT)\n",
    "print(type(fT[0][0]))"
   ]
  },
  {
   "cell_type": "code",
   "execution_count": 12,
   "metadata": {},
   "outputs": [
    {
     "name": "stdout",
     "output_type": "stream",
     "text": [
      "20000\n",
      "16\n",
      "[[ 93  19  22 ... 120 114 248]\n",
      " [196 118 171 ... 194 114 146]\n",
      " [153 118 107 ... 166   4 131]\n",
      " ...\n",
      " [126  99 182 ... 151 168 104]\n",
      " [145  40  73 ...  98  58  27]\n",
      " [ 94  72 215 ... 238   6 204]]\n",
      "<class 'numpy.uint8'>\n"
     ]
    }
   ],
   "source": [
    "print(len(fP))\n",
    "print(len(fP[0]))\n",
    "print(fP)\n",
    "print(type(fP[0][0]))"
   ]
  }
 ],
 "metadata": {
  "kernelspec": {
   "display_name": "Python 3",
   "language": "python",
   "name": "python3"
  },
  "language_info": {
   "codemirror_mode": {
    "name": "ipython",
    "version": 3
   },
   "file_extension": ".py",
   "mimetype": "text/x-python",
   "name": "python",
   "nbconvert_exporter": "python",
   "pygments_lexer": "ipython3",
   "version": "3.8.3"
  }
 },
 "nbformat": 4,
 "nbformat_minor": 4
}
